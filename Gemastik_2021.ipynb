{
  "nbformat": 4,
  "nbformat_minor": 0,
  "metadata": {
    "colab": {
      "name": "Gemastik 2021.ipynb",
      "provenance": [],
      "collapsed_sections": []
    },
    "kernelspec": {
      "name": "python3",
      "display_name": "Python 3"
    },
    "language_info": {
      "name": "python"
    }
  },
  "cells": [
    {
      "cell_type": "markdown",
      "metadata": {
        "id": "-YrUaihRYSHQ"
      },
      "source": [
        "# ***GEMASTIK 2021***\n",
        "\n",
        "**Tim WKWK :**\n",
        "  - Armadhani Hiro Juni Permana\n",
        "  - Azka Zainur Azifa\n",
        "  - Shabrina Retno Ningsih "
      ]
    },
    {
      "cell_type": "code",
      "metadata": {
        "id": "GSaXQ5PM3OY4"
      },
      "source": [
        "import pandas as pd\n",
        "import matplotlib.pyplot as plt"
      ],
      "execution_count": null,
      "outputs": []
    },
    {
      "cell_type": "code",
      "metadata": {
        "id": "WkB2NUqS7tCI",
        "colab": {
          "base_uri": "https://localhost:8080/",
          "height": 490
        },
        "outputId": "db6fabf3-6eb6-4b02-8954-53710983e2f2"
      },
      "source": [
        "!gdown --id 1LT0pB5r-Gb9-5Gr4QCneBTWuxmdCThS9\n",
        "\n",
        "data = pd.read_excel('Dataset.xlsx')\n",
        "data"
      ],
      "execution_count": null,
      "outputs": [
        {
          "output_type": "stream",
          "text": [
            "Downloading...\n",
            "From: https://drive.google.com/uc?id=1LT0pB5r-Gb9-5Gr4QCneBTWuxmdCThS9\n",
            "To: /content/Dataset.xlsx\n",
            "\r  0% 0.00/60.1k [00:00<?, ?B/s]\r100% 60.1k/60.1k [00:00<00:00, 21.8MB/s]\n"
          ],
          "name": "stdout"
        },
        {
          "output_type": "execute_result",
          "data": {
            "text/html": [
              "<div>\n",
              "<style scoped>\n",
              "    .dataframe tbody tr th:only-of-type {\n",
              "        vertical-align: middle;\n",
              "    }\n",
              "\n",
              "    .dataframe tbody tr th {\n",
              "        vertical-align: top;\n",
              "    }\n",
              "\n",
              "    .dataframe thead th {\n",
              "        text-align: right;\n",
              "    }\n",
              "</style>\n",
              "<table border=\"1\" class=\"dataframe\">\n",
              "  <thead>\n",
              "    <tr style=\"text-align: right;\">\n",
              "      <th></th>\n",
              "      <th>Username</th>\n",
              "      <th>Review</th>\n",
              "    </tr>\n",
              "  </thead>\n",
              "  <tbody>\n",
              "    <tr>\n",
              "      <th>0</th>\n",
              "      <td>n*****i</td>\n",
              "      <td>Jam tangannya bagus bangeeett, cantik cuman ga...</td>\n",
              "    </tr>\n",
              "    <tr>\n",
              "      <th>1</th>\n",
              "      <td>t*****n</td>\n",
              "      <td>Jamnya bagus banget aku suka model jam tangan ...</td>\n",
              "    </tr>\n",
              "    <tr>\n",
              "      <th>2</th>\n",
              "      <td>silka.spoutlet</td>\n",
              "      <td>Terloooovvvveee pokoknya bgaus banget,packing ...</td>\n",
              "    </tr>\n",
              "    <tr>\n",
              "      <th>3</th>\n",
              "      <td>miftahuljannah__1</td>\n",
              "      <td>Jamnya sudah sampai dengan amaan. Warna nya se...</td>\n",
              "    </tr>\n",
              "    <tr>\n",
              "      <th>4</th>\n",
              "      <td>unanunal</td>\n",
              "      <td>Packing kurang aman karna gak pake buble wrap....</td>\n",
              "    </tr>\n",
              "    <tr>\n",
              "      <th>...</th>\n",
              "      <td>...</td>\n",
              "      <td>...</td>\n",
              "    </tr>\n",
              "    <tr>\n",
              "      <th>145</th>\n",
              "      <td>w*****2</td>\n",
              "      <td>Thankyouu Berrybenkaa cantikk sekali🤗❤️❤️</td>\n",
              "    </tr>\n",
              "    <tr>\n",
              "      <th>146</th>\n",
              "      <td>fidiahutami</td>\n",
              "      <td>Kualitas produk sangat baik, produk original, ...</td>\n",
              "    </tr>\n",
              "    <tr>\n",
              "      <th>147</th>\n",
              "      <td>anisarac</td>\n",
              "      <td>Sukak banget jamnya realpict, packagingnya bag...</td>\n",
              "    </tr>\n",
              "    <tr>\n",
              "      <th>148</th>\n",
              "      <td>fiore.oei</td>\n",
              "      <td>Bagus jam tangannya, respon admin ramah.... Ma...</td>\n",
              "    </tr>\n",
              "    <tr>\n",
              "      <th>149</th>\n",
              "      <td>shafiraakhiria</td>\n",
              "      <td>Cantik bgtt, pengiriman jg cepet. Nice job ber...</td>\n",
              "    </tr>\n",
              "  </tbody>\n",
              "</table>\n",
              "<p>150 rows × 2 columns</p>\n",
              "</div>"
            ],
            "text/plain": [
              "              Username                                             Review\n",
              "0              n*****i  Jam tangannya bagus bangeeett, cantik cuman ga...\n",
              "1              t*****n  Jamnya bagus banget aku suka model jam tangan ...\n",
              "2       silka.spoutlet  Terloooovvvveee pokoknya bgaus banget,packing ...\n",
              "3    miftahuljannah__1  Jamnya sudah sampai dengan amaan. Warna nya se...\n",
              "4             unanunal  Packing kurang aman karna gak pake buble wrap....\n",
              "..                 ...                                                ...\n",
              "145            w*****2          Thankyouu Berrybenkaa cantikk sekali🤗❤️❤️\n",
              "146        fidiahutami  Kualitas produk sangat baik, produk original, ...\n",
              "147           anisarac  Sukak banget jamnya realpict, packagingnya bag...\n",
              "148          fiore.oei  Bagus jam tangannya, respon admin ramah.... Ma...\n",
              "149     shafiraakhiria  Cantik bgtt, pengiriman jg cepet. Nice job ber...\n",
              "\n",
              "[150 rows x 2 columns]"
            ]
          },
          "metadata": {
            "tags": []
          },
          "execution_count": 86
        }
      ]
    },
    {
      "cell_type": "code",
      "metadata": {
        "id": "93jZGNrrEqry",
        "colab": {
          "base_uri": "https://localhost:8080/"
        },
        "outputId": "7706497c-4fcf-4120-fd65-8400d22c15f7"
      },
      "source": [
        "print(len(data))"
      ],
      "execution_count": null,
      "outputs": [
        {
          "output_type": "stream",
          "text": [
            "150\n"
          ],
          "name": "stdout"
        }
      ]
    },
    {
      "cell_type": "code",
      "metadata": {
        "id": "jb40suxV8FcT",
        "colab": {
          "base_uri": "https://localhost:8080/"
        },
        "outputId": "a50310a8-2811-4f35-a706-8926fc2b6b01"
      },
      "source": [
        "#sesuai\n",
        "#tidak sesuai\n",
        "data_kelayakan = []\n",
        "data_temp = []\n",
        "\n",
        "for i in range(len(data)):\n",
        "  data_temp.append(data.iloc[i][1])\n",
        "\n",
        "print(data_temp)\n"
      ],
      "execution_count": null,
      "outputs": [
        {
          "output_type": "stream",
          "text": [
            "['Jam tangannya bagus bangeeett, cantik cuman gaada label berrybenkanya dan pengiriman agak lama, mungkin krn pandemi juga. Tp overall sukakk', 'Jamnya bagus banget aku suka model jam tangan yang kayak gini! ❤️', 'Terloooovvvveee pokoknya bgaus banget,packing aman..mantap pokoknya', 'Jamnya sudah sampai dengan amaan. Warna nya sesuai dengan deskripsi + ada magnetnya jadi bsa di sesuaikan. Waktu buka jam dalam kondisi mati dikirain ga hidup eh ternyata masih tersegel dan kalau dibuka segelnya jam nya berfungsi sebagai mana mestinya. Puas bangeeet pokoknya 👍', 'Packing kurang aman karna gak pake buble wrap. Tp untungnya paketnya gak peyot. Jamnya bagus gak keliata  murah. Yg warna gold lebih berkilau drpd yg rose gold. Tp lebih suka model yg rosegold karna magnetnya kuat gampang lepas pasangnya.', 'Kualitas produk sangat baik , produk original, harga produk sangat baik, kecepatan pengiriman sangat baik, respon penjual sangat baik. Kualitas produk sangat baik , produk original, harga produk sangat baik, kecepatan pengiriman sangat baik, respon penjual sangat baik. Kualitas produk sangat baik.', 'wooooohh bagus bgt!! keliatan mevvah dan centil. semua berfungsi dgn baik semoga awet dehh xixixi. tapi aku gadapet goodie bag berrybenka????', 'Kualitas produk baik harga produk sangat baik kecepatan pengiriman sangat baik harga produk sesuai barang kecepatan pengirimannya sangat baik respon penjual sangat baik puasssssssssss...............', 'Thanks uuuuuuuuu bagus, cuma gada merk nya gtu, pengiriman lumayan lama. Tp gpp makasih ya seller semoga berkah selalu ', 'bagus bgt dipake lucuuuu. syangnya gapake bubble wrap takut kurang aman:(', 'Simple, strapnya termasuk tipis sih gatau cepet berkarat atau engga tapi ini cantik. Buat ngaitinnya dia pake magnet', 'Baguuuusssss. Produk diterima sesuai pesanan. Packing rapi & aman. Belinya pas diskon. Dapet bonus foundation. Free ongkir pula. Thank you seller & shopee', 'Ok bgtt tp gampang melorot gtuu hehe tp cantiq bangett, warnanya pas sm kulitt', 'Barang realpict bagus banget aku sukakk, pengiriman standart sih dapet voucer potongan harga jga lupp 💕', 'Bagus jam nya, model nya juga simple, tapi baru engeh ternyata perekatnya macem ditempel aja, mau di pake takut copot, sayang soalnya', 'Barangnya baguss, Istri langsung suka, Semoga awet, Tambahan : kata ucapannya mungkin bahannya bisa diupgrade supaya lebih oke lagi,Thanks', 'Jamnya bagus lucu warna nya juga pas buat dikulit sawo matang, pokoknya nice bgt deh cuma ga ada tulisan merk-nya aja si , jadi kaya jam kw hihihihi', 'Bagus dan look elegant, pengemasan cepat sekali dan pengiriman juga. Packing aman, terima kasih', 'Ini kedua kalinya aku beli jam disinii, dan jam nya baguss, lucu2 dan keliatan elegan kalo dipake.. cuma sayang engga ada nama brand nya hehe', 'Pengiriman 2 hari sampe, jamnya baguss, review lengkapnya bisa liat di tiktok zahrasfyh hehe😁', 'Waaa bagus bgtt, alhandulillah sampai dengan aman dan jamnya juga berfungsi dgn baik. Thankyouuu', 'Paket has arrived. Cepet banget kemarin siang checkout hari ini udah sampe terbaikkkkk', 'Bagus.. cantik.. pas banget di tangan meskipun kulit aku gak putih tapi warnanya cocok.. hanya saja pengemasannya tidak pakai buble wrap.. buat kalian yg ngejar brand mungkin akan mikir beli ini. Karna gadak tag brand Berrybenka nya sama sekali..', 'bagus, nyampenya cepet, makasihhhh suka bgtttttttttttt 🥰', 'Jam tangannya cantik, pengiriman cepat, kemasan bagus. Cuma kurang dikasih merk berrybenka aja di jam nya.', 'Buat yang tangannya kecil ini bagus banget jadi gaperlu ngecilin jam lagi👍👍👍', 'Bagus bangeet, ukurannya juga pas ngga terlalu gede dan ga kekecilan. Pengiriman aman karena ada boxnya, thank you ❤️❤️', 'lucu banget jamnya!! pengiriman nya pun cepet bangett dan packingan aman', 'Kualitas, harga, dan kecepatan pengiriman sangat baik. Thanks seller...', 'Bagus bgttt, keliatan elegant, cantik parahh🥰🥰semoga awet yaaa', 'Sangat cepat pengiriman.. jam tangan original l... bagus sesuai foto', 'Bagus banget, kirain jamnya ada kaitannya ternyata pake magnet. But still cute 🥰 luv bgt', 'Awalnya ragu belinyaa karna kirain besar ternyata ga, sukaaa bgt hehe', 'Pengemasan baik. Pengiriman cepat. Barang yang dipesan sampai sesuai orderan dan aman. Terima kasih.', 'Jamnya cantik, sesuai foto & berfungsi dengan baik. Strapnya tipis, pas nyampe ga ada cacat sih bagus, semoga awet✨', 'Suka bangetttt packagingnya aman, dapet totebag juga semoga awet', 'Bagus banget jamnyaa, syg banget di jam ga ada brandnya sama sekalii', 'baaaaaaaaagggggggguuuuuuusssssssssssssssssss baaaaanggggeeettttt reeeeeaaallllllllpictttttttttttt😻😻', 'Kecepatan pengiriman standar, packing standar bgt, box jamnya cm dibungkus totebag tipis, ga ada bubble wrap, untung jamnya aman, berfungsi baik, semoga awet soalnya jamnya baguss', 'Bagus barang ori', 'Bagus bangettt worth it lah harga segitu, terimakasih banyakkk:)))', 'keren banget ini jamnya, gak nyesel beli de pokoknya......', 'Good.............', 'Pertama liat langsung suka modelnya, cangtip banget, pengemasan sama pengiriman juga cepet, respon penjual baguss, jamnya udah ada baterainya, oke bangett, thankyouu berrybenka. Semoga awet❤', 'Jamnya berfungsi dengan baik, ga ada cacat, semuanya mulus aman 👍', 'Cantik jamnya.. cuma emang tangaku yang terlalu kecil jadi masi agak longgar meskipun uda ditarik full sampe ujung. But anw thankyou. Manis jamnya di tanganku yg sawo matang', 'Baguus tp syg gaada merknya jd kyk jam tangan yg beli d mall!!!!!!!!!!!!!!!!!!!!!!!!!!!!!!', 'Kecepatan pengiriman baik, packaging aman, kualitas produk baik', 'Suka sih, cuma sempat khawatir karena dikirim tanpa bubblewrap sama sekali. Padahal produk fragile. Ya menurut saya utk produk mudah rusak atau pecah seperti ini sudah selayaknya lebih secure sih pengemasannya Semoga selalu memberikan yg terbaik ya', 'Berrybenka jade janice irony watches gold, barangnya sesuai', 'Barang datang sesuai yang di pesan temen saya sangat suka sekali buat hadiah puass pokoknya bikin temen bahagia', 'Bagus jamnya, berasa kokoh ketika dipegang, bukan logam yang ringan seperti di pasaran, tapi sayang tag/logo/merk berrybenkanya gak ada di jamnya, sebaiknya pengemasannya lebih ditingkatkan karena tidak ada bubblewrapnya', 'baguss bgtt alhamdulillah ibukku syukaaa❤️💙', 'bahannya bagus banget modelnya kekinian, harga terjangkau pengiriman cepat, sesuai ekspektasi pokokknya recommended banget buat beli jam ini yang mau ngikutin trend sekarang hahahahhaha gak nyesel pokoknya, berasa elegan sekali pake jam ini untuk digunakan sehari hari, kuliah, kerja jalan jalan', 'Simpel bagus harga terjangkau, Penjual ramah, Barang cepat sampai', 'Pengiriman dan pengemasan cepat, barang aman dan lengkap. Jamnya cantik bgt. Makasihh', 'Sayang bgt kemarin lupa baca2 n tanya2 ternyata ini gak ada garansi jam yg kaya di toko2 biasanya hanya garansi shopee tapi untungnya krn ini brand lumayan ternama jd yaudeh tp udh 2 kali tiba2 jam nya pas di liat kok gak sama atau mungkin batre nya yg udh mau abis tp padahal baru beli, strap tipis', 'Pengiriman ny lumayan cepet, Sayang nya pakingan nya gak ada buble wrap sama sekali jdi cuma kotak dri jam tngan nya aja, untung kondisi barang bagus g ada yg pecah , Jam nya ku suka bagus simple sesuai lah smaa harga segitu', 'lucu bangettt jam nyaaa pengirimannya juga cepattttttttt', 'warnanya gold-rose.. bagus sih sedang harga diskon tapi kualitas gak berkurang ', 'Cantik banget dong produknya, pengemasannya juga ekslusif biut yampun, bisa buat hampers. Dapet potongan harga lagi,', 'Muanteppppppppppppppppppppppppppppppp tapi magnetnya agak mudah copot ya', 'Cantiiik banget bund, suka banget. Pengirimannya juga cepat. Top banget deeeeh. Pokoknya ga nyesel. Love banget. Mantuuuuuuuuuul.', 'Awalnya bingung mau warna gold atau black, setelah dipikir2 warna gold keknya bagus, Pas sampai, woooww diluar ekspektasi banget, Bagus banget sumpissss😭😭😊😊☺☺☺ thankyouuu', 'Baguss. Pengiriman juga cepet. Cuma sayang magnet nya ga terlalu kuat ya. Jd kadang masih sering suka lepas gtu klo ga sering jd lebih longgar', 'thankyou barangnya bagus bgt keren banget rekomen pokoknya', 'product nya bagus, strap jam nya magnet, bisa request ucapan, worth to buy!', 'Bagus pake magnet, masuk ke skin tone aku yang gelap, diskonnya juga lumayan, dari ada beli di web', 'Recommendedddddddddd bgt!! balon ku ada lima rupa rupa warnanya hijau kuning kelabu merah muda dan biru. Meletus balon hijau dor hatiku sangat kacaw. Balon ku tinggal empattt. kupegang erat erat', 'pengiriman cpt banget kmrn siang bayar bsknya udh sampe, bagus bgt jamnya sukakkk😍❤️', 'bagusssssssssd bangetttttttttttttttttttsukaaaaaaaaaaaaaaaaaaaaaaaaaaaaaaa', 'sumpah bener bener bagus banget dan ringan juga suka banget sih asliii lucu banget abisan terkesan mewah jugaaa. makasih banyakkk💜', 'Sudah sampai , warnanya lebih ke rose gold ya ternyata .. thank you 👍🏻👍🏻', 'Kualitas produk sangat baikkkkkk, bagussss. Produk original pokoknyaaaaaa! Harga produk juga sangat baikkkkkk', 'Paket sudah di terima, baru sempet ambil ke security karena baru cek status pemesanan. Kenetulan buat karo, tp ku suka sama model dan warnanya. Terimakasih', 'Baguss, harga terjangkau dan cocok untuk di tangan saat dipakai, thankyou Berrybenka', 'bahannya bagus, harga juga terjangkau, pengemasan aman, pengiriman cepat. secata keseluruhan oke, udah percaya bgt ama kualitasnya dan selalu cocok buat tangan kecil, minusnya cuma 1, karena strapnya berongga, kadang rambut halus tangan suka nyangkut trs ketarik jd berasa cekit2 selama pemakaian.', 'Pengiriman cepat admin RAMAH barang bagus harganya Sangaaaaaaat terjangkau Diskon juga terimakasih warna nya lucuuuuuuuu', 'barangnya bagus, lucu dan warnanya ❤️❤️❤️❤️, pengiriman cepat sekali👍👍👍👍👍👍', 'Bagusss bngttt si sukaaa bngtttt pengirimnanya juga cepet bangett', 'Bener bener cakep pooolllll sesuai ekspektasi bgt parahhh cantikk bgtttt', 'Thankyouu Berrybenkaa cantikk sekali🤗❤️❤️', 'Sumpaaahh baguss bgt thnkuuuu berry benkaaa recommended bgt guysssss', 'Cantik banget! Warnanya bagus dan elegan pas dipake. Pengiriman gak gercep sih, tapi semua terbayarkan pas ngeliat produknya langsung. Harga juga affordable. Very worth it!❣', 'Jamnya cantik bangetttt♥️♥️♥️ sukak sama modelnya dan warnanya bagus. Pokoknya mewah banget deh ini jam. Cantik banget tangan pake jam ini. Next mau order lagi, semoga tetep diskon heheh. ', 'datengnya cepet😍 sesuai sama yang diharapkan🥰🥰🥰 seneng banget, semoga awet deh ini jamnya🥰🥰', 'Cantik banget jam tangannya astagaaaa , suka sekali belanja di berrybenka next order lagi , cuteee💚', 'sangatt baguss gak nyesal dehh. bakal order lagi sih ini.', 'Untuk kado sih jadi gak liat tapi kata temen bagussss, packing juga aman, semoga teman aku suka. Terimakasihhh ya berrybenka hxkdksllallakhhghhxndndjsjjsjsndhjdksllanabhdhdhdhdndnndndndbf', 'Kualitas produk tidak usah diragukan lagii, cakeeeeppppp pisaannnn aahhhh, luuuvvvvvvvv buangeettts❤', 'Bagus banget jam nya, Package nya juga safety bangeet, Pengemasan juga cepet, Suka pake bangett', 'Sudah sampai dengan selamat, packingnya aman, terima kasih🙏🙏🙏🙏🙏🙏', 'Terima kasihhhhhhhhh paketnya sudah sampai... Sumpah bagusssss bgttttt bener2 real pict, worth it to buy Pengiriman pun cepattttttt', 'Pengiriman cepet bangetttt thanks seller💕💕💕jamnya bagus bangeeet sukaaaa', 'Jamnya bagus gak kekecilan pas ditangan. Unik strapnya pake magnet. Boxnya bagus👏', 'Sudah sampai , warnanya lebih ke rose gold ya ternyata .. thank you 👍🏻👍🏻', 'Pengiriman cepat dan packingnya rapih bgt. Jamnya gada yg cacat sama sekali, bagus bgt aslinya hehe thankyou🙏☺', 'Pengemasa cepet bgt Nyampe cepet banget Barang oke bgt Bagus Kotaknya berlapis Oke bgt pokoknya mah Mksh', 'Sempet kaget packingnya tanpa bubble wrap, takut pecah atau kenapa kenapa. Tapi alhamdulillah barangnya sampe dengan selamat. Kawatir karna buat kado 😂', 'Pengiriman ny lumayan cepet, Sayang nya pakingan nya gak ada buble wrap sama sekali jdi cuma kotak dri jam tngan nya aja, untung kondisi barang bagus g ada yg pecah , Jam nya ku suka bagus simple sesuai lah smaa harga segitu', 'Muanteppppppppppppppppppppppppppppppp tapi magnetnya agak mudah copot ya', 'Cantiiik banget bund, suka banget. Pengirimannya juga cepat. Top banget deeeeh. Pokoknya ga nyesel. Love banget. Mantuuuuuuuuuul', 'Tanggapan seller oke dan cepat, packagingnya oke dan harga jg oke👍', 'Kualitas produk sangat baik. Pengemasan oke. Mantap', 'Original bangey sesuai sama fotonya dan pihak sallernya super cepat banget kirimkan paketnya. Gak nyampe 24 jam udah sampai dong paketnya di aku 🥺🥺', 'Pesen pas lg ada voucher diskon lumayan bangettt udah gitu free gift lagi. Tapi gift nya lupa di foto hehe. Thankyou', 'Cakep bgt. Suka bgt. No cacad ... Minus di pengemasannya.. cm box kecil gini d ksh cover bag dan plastik aja.. syukur kga pecah ini kaca jam nya.. hheu Next pakein bble wrap dong untuk brng trtentu gini.. jd lbh safety.', 'Barangnya sudah sampaiii, pengirimannya lumayan cepat. Jamnya bagussss🙌', 'Bagus bangett jamnyaa, pengemasannta juga bagus dan rapi. Di foto kaya besar gitu tapi pas uda sampe ternyata kecil ya kayak gemoy gitu ajaj cocok sih buat cewek lebih cantik klo di pake di tangan kesannya kaya wah gitu🥰🥰', 'Maaf foto dan vidio tidak sesuai karna paket dirumah ga ush ragukan lagi kualitas pasti baik dan bagus thanks seller', 'Suka,jam nya bagus bangeeeeeeeeeeet . . Nyesal beli cuma satuu 😭😭😭', 'Alhamdulillah gercep nih sampenya mantuelll Jam nya juga nyaman bgt di pake cantikkk cuma gaada label samsek ya di jam nyaa tp its okayy tetep cakep', 'Produk sangat baik, pengemasan cepat, sayangnya pengemasan kurang aman', 'Barang sampai dengan cepat dan packingan nya rapi. Puas sekaliiiiiiii', 'BAGUUUS BGTTTTT!!!!!! suka bgt BAKALAN PAKE!! buat org org yg pgn pake watch, i think this is a good first watch to purchase!!', 'Alhamdulillah sampe, barang bagus, pengemasan oke, free goodybag. Beryukur. Makasi owner❤❤❤❤❤❤❤❤❤❤❤❤❤❤❤❤', 'Bagusss bgttt!!!', 'Bagus. Cocok bgt. Sukaaaaaaaaaaaaaaaaaaaaaaaaaaaaaaaaaaaaaaaaaaaaaaaaaaaaaaaaaaaaaaaaaaaaaaaaaaaaaaaaaa', 'Bagus banget barangnya suka deh Bagus banget barangnya suka deh Bagus banget barangnya suka deh Bagus banget barangnya suka deh Bagus banget barangnya suka deh Bagus banget barangnya suka deh Bagus banget barangnya suka deh Bagus banget barangnya suka deh Bagus banget barangnya suka deh Bagus banget', 'Baguss bangettt jam nya, sesuai ekspetasi banget pokoknyaa. Selalu puas belanja di berrybenka. Love love, thankyou seller 🥳🥳', 'Produk bagus.. udah gitu cepat banget sampenya.. aku sukak..mmmmmmmmmmmmmmmmmmmmmmmmmmm', 'bahannya bagus, kualitas oke, pengiriman juga cepet banget', 'Pengiriman cepat, barang bagusss , sesuai hargaaaaaaaaaa', 'Bagus banget kedua kalinya belanja online berry benka produk lokal terbaik ini mah🥺🥰 pengirimannya cepet banget, agak kecewa sm request tlisan kirain pake tulisn tangan🙂', 'Jamnya bagus suka bangetttt, pengiriman lumayan cepet yaa pokoknya u guys must have it!', 'bagussssssssssssss gaada yg lecet jugaa, semoga awettttt', 'Suka banget jam nya real pict dan pengiriman juga cepet 👍👍👍❤', 'Bagus banget, cocok di tangan ga berat sama sekali🤗🤗🤗🥰🥰🥰🥰🥰🥰', 'cakep banget, lama di pengemasan, tapi worth it banget, baru kali ini pake jam betah, thank u berrybenka', 'Bagusssssssssssssssssssssssssssssssssssssssssssssssssssssssss', 'Jam nya bagus bgt sesuai ekspektasi, pengiriman cepat, pengemasan juga aman, thanks seller 😍', 'Kualitas produk sangat baikkkkkk, bagussss. Produk original pokoknyaaaaaa! Harga produk juga sangat baikkkkkk', 'Jamnya bagus banget beli langsung 3 lagi diskon semoga awet', 'Bagus, kotaknya sampe dua lgi 😄. Bisa req ucapan utk gift dan adminnya super ramah 🥰', 'alhamdulillah sampai, bagus bagus bagus, lumayan hehehehehe', 'Baguss, harga terjangkau dan cocok untuk di tangan saat dipakai, thankyou Berrybenka', 'Sukak banget jamnya realpict, packagingnya bagus banget😍', 'bahannya bagus, harga juga terjangkau, pengemasan aman, pengiriman cepat. secata keseluruhan oke, udah percaya bgt ama kualitasnya dan selalu cocok buat tangan kecil, minusnya cuma 1, karena strapnya berongga, kadang rambut halus tangan suka nyangkut trs ketarik jd berasa cekit2 selama pemakaian.', 'Pengiriman cepat admin RAMAH barang bagus harganya Sangaaaaaaat terjangkau,  Diskon juga terimakasih warna nya lucu', 'Baguuuuuuuuuuuuuuuuuuuuuuuuuuuuuuuusssssssssssssssss', 'terima kasih jam nya udah nyampee bagus banget pengiriman nya cepet', 'Kecepatan pengiriman sangat baik,,,,,,,,,,,,,Cantik banget jam tangannya,sesuai ekspektasi🥳🥳🥳🥳🥳🥳🥳🥳🥳🥳🥳', 'Bagusss bngttt si sukaaa bngtttt pengirimnanya juga cepet bangett', 'Keren box nya Pengiriman cepat. Jam nya keren bgt,cantik dipakai.', 'Bener bener cakep pooolllll sesuai ekspektasi bgt parahhh cantikk bgtttt', 'Thankyouu Berrybenkaa cantikk sekali🤗❤️❤️', 'Kualitas produk sangat baik, produk original, harga produk sangat baik', 'Sukak banget jamnya realpict, packagingnya bagus banget😍', 'Bagus jam tangannya, respon admin ramah.... Makasih BERRYBENKA', 'Cantik bgtt, pengiriman jg cepet. Nice job berrybenka👍🏻']\n"
          ],
          "name": "stdout"
        }
      ]
    },
    {
      "cell_type": "code",
      "metadata": {
        "id": "cHVnYEjBXi3B",
        "colab": {
          "base_uri": "https://localhost:8080/",
          "height": 35
        },
        "outputId": "2ce073f2-d5a0-4fc2-a619-1feb80cf074f"
      },
      "source": [
        "data_temp[0]"
      ],
      "execution_count": null,
      "outputs": [
        {
          "output_type": "execute_result",
          "data": {
            "application/vnd.google.colaboratory.intrinsic+json": {
              "type": "string"
            },
            "text/plain": [
              "'Jam tangannya bagus bangeeett, cantik cuman gaada label berrybenkanya dan pengiriman agak lama, mungkin krn pandemi juga. Tp overall sukakk'"
            ]
          },
          "metadata": {
            "tags": []
          },
          "execution_count": 89
        }
      ]
    },
    {
      "cell_type": "code",
      "metadata": {
        "id": "0iTLGLD6LCnJ",
        "colab": {
          "base_uri": "https://localhost:8080/"
        },
        "outputId": "8b2da177-e881-44f7-fe15-65389b7d0f67"
      },
      "source": [
        "for i in range(len(data_temp)):\n",
        "  data_split = data_temp[i].split(\" \")\n",
        "  # print(data_split)\n",
        "  # print(len(data_split))\n",
        "  value = [\"tapi\", \"Tapi\", \"tp\", \"Tp\", \"tpi\", \"Tpi\", \"cm\", \"Cm\", \"cuma\", \"Cuma\", \"cmn\", \"Cmn\", \"cuman\", \"Cuman\", \"sayang\", \"Sayang\", \"syang\", \"Syang\", \"syg\",\n",
        "           \"Syg\", \"sygnya\", \"sayangnya\", \"syangnya\", \"minus\", \"Minus\", \"minusnya\" \"Minusnya\", \"kurang\", \"Kurang\", \"kurangnya\", \"Kurangnya\", \"lama\", \"Lama\", \n",
        "           \"kecewa\", \"Kecewa\" ]\n",
        "  j = 0\n",
        "  for x in range(len(data_split)):\n",
        "    # print(\"x = \", x)\n",
        "    for y in value:\n",
        "      # print(\"y = \", y)\n",
        "      if data_split[x] == y:\n",
        "        j = j + 1\n",
        "  if j > 0 :\n",
        "    data_kelayakan.append(\"Tidak\")\n",
        "  else:\n",
        "    data_kelayakan.append(\"Ya\")\n",
        "\n",
        "print(data_kelayakan)\n",
        "print(len(data_kelayakan))     \n"
      ],
      "execution_count": null,
      "outputs": [
        {
          "output_type": "stream",
          "text": [
            "['Tidak', 'Ya', 'Ya', 'Ya', 'Tidak', 'Ya', 'Tidak', 'Ya', 'Tidak', 'Tidak', 'Tidak', 'Ya', 'Tidak', 'Ya', 'Tidak', 'Ya', 'Tidak', 'Ya', 'Tidak', 'Ya', 'Ya', 'Ya', 'Tidak', 'Ya', 'Tidak', 'Ya', 'Ya', 'Ya', 'Ya', 'Ya', 'Ya', 'Ya', 'Ya', 'Ya', 'Ya', 'Ya', 'Tidak', 'Ya', 'Tidak', 'Ya', 'Ya', 'Ya', 'Ya', 'Ya', 'Ya', 'Tidak', 'Tidak', 'Ya', 'Tidak', 'Ya', 'Ya', 'Tidak', 'Ya', 'Ya', 'Ya', 'Ya', 'Tidak', 'Tidak', 'Ya', 'Tidak', 'Ya', 'Tidak', 'Ya', 'Ya', 'Tidak', 'Ya', 'Ya', 'Ya', 'Ya', 'Ya', 'Ya', 'Ya', 'Ya', 'Ya', 'Tidak', 'Ya', 'Tidak', 'Ya', 'Ya', 'Ya', 'Ya', 'Ya', 'Ya', 'Tidak', 'Ya', 'Ya', 'Ya', 'Ya', 'Tidak', 'Ya', 'Ya', 'Ya', 'Ya', 'Ya', 'Ya', 'Ya', 'Ya', 'Ya', 'Tidak', 'Tidak', 'Tidak', 'Ya', 'Ya', 'Ya', 'Ya', 'Tidak', 'Tidak', 'Ya', 'Tidak', 'Ya', 'Tidak', 'Tidak', 'Tidak', 'Ya', 'Ya', 'Ya', 'Ya', 'Ya', 'Ya', 'Ya', 'Ya', 'Ya', 'Ya', 'Tidak', 'Ya', 'Ya', 'Ya', 'Ya', 'Tidak', 'Ya', 'Ya', 'Ya', 'Ya', 'Ya', 'Ya', 'Ya', 'Ya', 'Tidak', 'Ya', 'Ya', 'Ya', 'Ya', 'Ya', 'Ya', 'Ya', 'Ya', 'Ya', 'Ya', 'Ya', 'Ya']\n",
            "150\n"
          ],
          "name": "stdout"
        }
      ]
    },
    {
      "cell_type": "code",
      "metadata": {
        "id": "malUT1AILEh3",
        "colab": {
          "base_uri": "https://localhost:8080/",
          "height": 419
        },
        "outputId": "8227c06e-875b-4285-b71e-20502c14dd46"
      },
      "source": [
        "data[\"Kelayakan\"] = data_kelayakan\n",
        "data"
      ],
      "execution_count": null,
      "outputs": [
        {
          "output_type": "execute_result",
          "data": {
            "text/html": [
              "<div>\n",
              "<style scoped>\n",
              "    .dataframe tbody tr th:only-of-type {\n",
              "        vertical-align: middle;\n",
              "    }\n",
              "\n",
              "    .dataframe tbody tr th {\n",
              "        vertical-align: top;\n",
              "    }\n",
              "\n",
              "    .dataframe thead th {\n",
              "        text-align: right;\n",
              "    }\n",
              "</style>\n",
              "<table border=\"1\" class=\"dataframe\">\n",
              "  <thead>\n",
              "    <tr style=\"text-align: right;\">\n",
              "      <th></th>\n",
              "      <th>Username</th>\n",
              "      <th>Review</th>\n",
              "      <th>Kelayakan</th>\n",
              "    </tr>\n",
              "  </thead>\n",
              "  <tbody>\n",
              "    <tr>\n",
              "      <th>0</th>\n",
              "      <td>n*****i</td>\n",
              "      <td>Jam tangannya bagus bangeeett, cantik cuman ga...</td>\n",
              "      <td>Tidak</td>\n",
              "    </tr>\n",
              "    <tr>\n",
              "      <th>1</th>\n",
              "      <td>t*****n</td>\n",
              "      <td>Jamnya bagus banget aku suka model jam tangan ...</td>\n",
              "      <td>Ya</td>\n",
              "    </tr>\n",
              "    <tr>\n",
              "      <th>2</th>\n",
              "      <td>silka.spoutlet</td>\n",
              "      <td>Terloooovvvveee pokoknya bgaus banget,packing ...</td>\n",
              "      <td>Ya</td>\n",
              "    </tr>\n",
              "    <tr>\n",
              "      <th>3</th>\n",
              "      <td>miftahuljannah__1</td>\n",
              "      <td>Jamnya sudah sampai dengan amaan. Warna nya se...</td>\n",
              "      <td>Ya</td>\n",
              "    </tr>\n",
              "    <tr>\n",
              "      <th>4</th>\n",
              "      <td>unanunal</td>\n",
              "      <td>Packing kurang aman karna gak pake buble wrap....</td>\n",
              "      <td>Tidak</td>\n",
              "    </tr>\n",
              "    <tr>\n",
              "      <th>...</th>\n",
              "      <td>...</td>\n",
              "      <td>...</td>\n",
              "      <td>...</td>\n",
              "    </tr>\n",
              "    <tr>\n",
              "      <th>145</th>\n",
              "      <td>w*****2</td>\n",
              "      <td>Thankyouu Berrybenkaa cantikk sekali🤗❤️❤️</td>\n",
              "      <td>Ya</td>\n",
              "    </tr>\n",
              "    <tr>\n",
              "      <th>146</th>\n",
              "      <td>fidiahutami</td>\n",
              "      <td>Kualitas produk sangat baik, produk original, ...</td>\n",
              "      <td>Ya</td>\n",
              "    </tr>\n",
              "    <tr>\n",
              "      <th>147</th>\n",
              "      <td>anisarac</td>\n",
              "      <td>Sukak banget jamnya realpict, packagingnya bag...</td>\n",
              "      <td>Ya</td>\n",
              "    </tr>\n",
              "    <tr>\n",
              "      <th>148</th>\n",
              "      <td>fiore.oei</td>\n",
              "      <td>Bagus jam tangannya, respon admin ramah.... Ma...</td>\n",
              "      <td>Ya</td>\n",
              "    </tr>\n",
              "    <tr>\n",
              "      <th>149</th>\n",
              "      <td>shafiraakhiria</td>\n",
              "      <td>Cantik bgtt, pengiriman jg cepet. Nice job ber...</td>\n",
              "      <td>Ya</td>\n",
              "    </tr>\n",
              "  </tbody>\n",
              "</table>\n",
              "<p>150 rows × 3 columns</p>\n",
              "</div>"
            ],
            "text/plain": [
              "              Username  ... Kelayakan\n",
              "0              n*****i  ...     Tidak\n",
              "1              t*****n  ...        Ya\n",
              "2       silka.spoutlet  ...        Ya\n",
              "3    miftahuljannah__1  ...        Ya\n",
              "4             unanunal  ...     Tidak\n",
              "..                 ...  ...       ...\n",
              "145            w*****2  ...        Ya\n",
              "146        fidiahutami  ...        Ya\n",
              "147           anisarac  ...        Ya\n",
              "148          fiore.oei  ...        Ya\n",
              "149     shafiraakhiria  ...        Ya\n",
              "\n",
              "[150 rows x 3 columns]"
            ]
          },
          "metadata": {
            "tags": []
          },
          "execution_count": 91
        }
      ]
    },
    {
      "cell_type": "code",
      "metadata": {
        "id": "6897QqRre-rq"
      },
      "source": [
        "data.to_excel('Dataset_baru.xlsx')"
      ],
      "execution_count": null,
      "outputs": []
    },
    {
      "cell_type": "markdown",
      "metadata": {
        "id": "oGHJnmRfpkNa"
      },
      "source": [
        "# **Preprocessing**"
      ]
    },
    {
      "cell_type": "code",
      "metadata": {
        "id": "OeCVQz2nmbfi",
        "colab": {
          "base_uri": "https://localhost:8080/",
          "height": 419
        },
        "outputId": "73dd083b-55b3-4872-ab8e-6bef0768d589"
      },
      "source": [
        "#casefolding\n",
        "import re\n",
        "\n",
        "def casefolding(review):\n",
        "  review = review.lower()\n",
        "  review = review.strip(\" \")\n",
        "  # review = re.sub(r'[!”#$%&’()*+,-./:;<=>?@[\\]^_`{|}~]', '', review)\n",
        "  review = text = re.sub('[^a-zA-Z]',' ',review)\n",
        "  return review\n",
        "\n",
        "data['Review'] = data['Review'].apply(casefolding)\n",
        "data"
      ],
      "execution_count": null,
      "outputs": [
        {
          "output_type": "execute_result",
          "data": {
            "text/html": [
              "<div>\n",
              "<style scoped>\n",
              "    .dataframe tbody tr th:only-of-type {\n",
              "        vertical-align: middle;\n",
              "    }\n",
              "\n",
              "    .dataframe tbody tr th {\n",
              "        vertical-align: top;\n",
              "    }\n",
              "\n",
              "    .dataframe thead th {\n",
              "        text-align: right;\n",
              "    }\n",
              "</style>\n",
              "<table border=\"1\" class=\"dataframe\">\n",
              "  <thead>\n",
              "    <tr style=\"text-align: right;\">\n",
              "      <th></th>\n",
              "      <th>Username</th>\n",
              "      <th>Review</th>\n",
              "      <th>Kelayakan</th>\n",
              "    </tr>\n",
              "  </thead>\n",
              "  <tbody>\n",
              "    <tr>\n",
              "      <th>0</th>\n",
              "      <td>n*****i</td>\n",
              "      <td>jam tangannya bagus bangeeett  cantik cuman ga...</td>\n",
              "      <td>Tidak</td>\n",
              "    </tr>\n",
              "    <tr>\n",
              "      <th>1</th>\n",
              "      <td>t*****n</td>\n",
              "      <td>jamnya bagus banget aku suka model jam tangan ...</td>\n",
              "      <td>Ya</td>\n",
              "    </tr>\n",
              "    <tr>\n",
              "      <th>2</th>\n",
              "      <td>silka.spoutlet</td>\n",
              "      <td>terloooovvvveee pokoknya bgaus banget packing ...</td>\n",
              "      <td>Ya</td>\n",
              "    </tr>\n",
              "    <tr>\n",
              "      <th>3</th>\n",
              "      <td>miftahuljannah__1</td>\n",
              "      <td>jamnya sudah sampai dengan amaan  warna nya se...</td>\n",
              "      <td>Ya</td>\n",
              "    </tr>\n",
              "    <tr>\n",
              "      <th>4</th>\n",
              "      <td>unanunal</td>\n",
              "      <td>packing kurang aman karna gak pake buble wrap ...</td>\n",
              "      <td>Tidak</td>\n",
              "    </tr>\n",
              "    <tr>\n",
              "      <th>...</th>\n",
              "      <td>...</td>\n",
              "      <td>...</td>\n",
              "      <td>...</td>\n",
              "    </tr>\n",
              "    <tr>\n",
              "      <th>145</th>\n",
              "      <td>w*****2</td>\n",
              "      <td>thankyouu berrybenkaa cantikk sekali</td>\n",
              "      <td>Ya</td>\n",
              "    </tr>\n",
              "    <tr>\n",
              "      <th>146</th>\n",
              "      <td>fidiahutami</td>\n",
              "      <td>kualitas produk sangat baik  produk original  ...</td>\n",
              "      <td>Ya</td>\n",
              "    </tr>\n",
              "    <tr>\n",
              "      <th>147</th>\n",
              "      <td>anisarac</td>\n",
              "      <td>sukak banget jamnya realpict  packagingnya bag...</td>\n",
              "      <td>Ya</td>\n",
              "    </tr>\n",
              "    <tr>\n",
              "      <th>148</th>\n",
              "      <td>fiore.oei</td>\n",
              "      <td>bagus jam tangannya  respon admin ramah     ma...</td>\n",
              "      <td>Ya</td>\n",
              "    </tr>\n",
              "    <tr>\n",
              "      <th>149</th>\n",
              "      <td>shafiraakhiria</td>\n",
              "      <td>cantik bgtt  pengiriman jg cepet  nice job ber...</td>\n",
              "      <td>Ya</td>\n",
              "    </tr>\n",
              "  </tbody>\n",
              "</table>\n",
              "<p>150 rows × 3 columns</p>\n",
              "</div>"
            ],
            "text/plain": [
              "              Username  ... Kelayakan\n",
              "0              n*****i  ...     Tidak\n",
              "1              t*****n  ...        Ya\n",
              "2       silka.spoutlet  ...        Ya\n",
              "3    miftahuljannah__1  ...        Ya\n",
              "4             unanunal  ...     Tidak\n",
              "..                 ...  ...       ...\n",
              "145            w*****2  ...        Ya\n",
              "146        fidiahutami  ...        Ya\n",
              "147           anisarac  ...        Ya\n",
              "148          fiore.oei  ...        Ya\n",
              "149     shafiraakhiria  ...        Ya\n",
              "\n",
              "[150 rows x 3 columns]"
            ]
          },
          "metadata": {
            "tags": []
          },
          "execution_count": 93
        }
      ]
    },
    {
      "cell_type": "code",
      "metadata": {
        "id": "zFluho-fzuaZ",
        "colab": {
          "base_uri": "https://localhost:8080/",
          "height": 419
        },
        "outputId": "74be67cb-42a4-4d13-9b09-863502faa137"
      },
      "source": [
        "#tokenizing\n",
        "def token(review):\n",
        "  nstr = review.split(' ')\n",
        "  arr = []\n",
        "  a = -1\n",
        "  for x in nstr:\n",
        "    a = i + 1\n",
        "  if x == ' ':\n",
        "    arr.append(a)\n",
        "  p = 0\n",
        "  b = 0\n",
        "  for q in arr:\n",
        "    b = q - p\n",
        "    del nstr[b]\n",
        "    p = p + 1\n",
        "  return nstr\n",
        "  \n",
        "data['Review'] = data['Review'].apply(token)\n",
        "data"
      ],
      "execution_count": null,
      "outputs": [
        {
          "output_type": "execute_result",
          "data": {
            "text/html": [
              "<div>\n",
              "<style scoped>\n",
              "    .dataframe tbody tr th:only-of-type {\n",
              "        vertical-align: middle;\n",
              "    }\n",
              "\n",
              "    .dataframe tbody tr th {\n",
              "        vertical-align: top;\n",
              "    }\n",
              "\n",
              "    .dataframe thead th {\n",
              "        text-align: right;\n",
              "    }\n",
              "</style>\n",
              "<table border=\"1\" class=\"dataframe\">\n",
              "  <thead>\n",
              "    <tr style=\"text-align: right;\">\n",
              "      <th></th>\n",
              "      <th>Username</th>\n",
              "      <th>Review</th>\n",
              "      <th>Kelayakan</th>\n",
              "    </tr>\n",
              "  </thead>\n",
              "  <tbody>\n",
              "    <tr>\n",
              "      <th>0</th>\n",
              "      <td>n*****i</td>\n",
              "      <td>[jam, tangannya, bagus, bangeeett, , cantik, c...</td>\n",
              "      <td>Tidak</td>\n",
              "    </tr>\n",
              "    <tr>\n",
              "      <th>1</th>\n",
              "      <td>t*****n</td>\n",
              "      <td>[jamnya, bagus, banget, aku, suka, model, jam,...</td>\n",
              "      <td>Ya</td>\n",
              "    </tr>\n",
              "    <tr>\n",
              "      <th>2</th>\n",
              "      <td>silka.spoutlet</td>\n",
              "      <td>[terloooovvvveee, pokoknya, bgaus, banget, pac...</td>\n",
              "      <td>Ya</td>\n",
              "    </tr>\n",
              "    <tr>\n",
              "      <th>3</th>\n",
              "      <td>miftahuljannah__1</td>\n",
              "      <td>[jamnya, sudah, sampai, dengan, amaan, , warna...</td>\n",
              "      <td>Ya</td>\n",
              "    </tr>\n",
              "    <tr>\n",
              "      <th>4</th>\n",
              "      <td>unanunal</td>\n",
              "      <td>[packing, kurang, aman, karna, gak, pake, bubl...</td>\n",
              "      <td>Tidak</td>\n",
              "    </tr>\n",
              "    <tr>\n",
              "      <th>...</th>\n",
              "      <td>...</td>\n",
              "      <td>...</td>\n",
              "      <td>...</td>\n",
              "    </tr>\n",
              "    <tr>\n",
              "      <th>145</th>\n",
              "      <td>w*****2</td>\n",
              "      <td>[thankyouu, berrybenkaa, cantikk, sekali, , , ...</td>\n",
              "      <td>Ya</td>\n",
              "    </tr>\n",
              "    <tr>\n",
              "      <th>146</th>\n",
              "      <td>fidiahutami</td>\n",
              "      <td>[kualitas, produk, sangat, baik, , produk, ori...</td>\n",
              "      <td>Ya</td>\n",
              "    </tr>\n",
              "    <tr>\n",
              "      <th>147</th>\n",
              "      <td>anisarac</td>\n",
              "      <td>[sukak, banget, jamnya, realpict, , packagingn...</td>\n",
              "      <td>Ya</td>\n",
              "    </tr>\n",
              "    <tr>\n",
              "      <th>148</th>\n",
              "      <td>fiore.oei</td>\n",
              "      <td>[bagus, jam, tangannya, , respon, admin, ramah...</td>\n",
              "      <td>Ya</td>\n",
              "    </tr>\n",
              "    <tr>\n",
              "      <th>149</th>\n",
              "      <td>shafiraakhiria</td>\n",
              "      <td>[cantik, bgtt, , pengiriman, jg, cepet, , nice...</td>\n",
              "      <td>Ya</td>\n",
              "    </tr>\n",
              "  </tbody>\n",
              "</table>\n",
              "<p>150 rows × 3 columns</p>\n",
              "</div>"
            ],
            "text/plain": [
              "              Username  ... Kelayakan\n",
              "0              n*****i  ...     Tidak\n",
              "1              t*****n  ...        Ya\n",
              "2       silka.spoutlet  ...        Ya\n",
              "3    miftahuljannah__1  ...        Ya\n",
              "4             unanunal  ...     Tidak\n",
              "..                 ...  ...       ...\n",
              "145            w*****2  ...        Ya\n",
              "146        fidiahutami  ...        Ya\n",
              "147           anisarac  ...        Ya\n",
              "148          fiore.oei  ...        Ya\n",
              "149     shafiraakhiria  ...        Ya\n",
              "\n",
              "[150 rows x 3 columns]"
            ]
          },
          "metadata": {
            "tags": []
          },
          "execution_count": 94
        }
      ]
    },
    {
      "cell_type": "code",
      "metadata": {
        "id": "Y86sbHIN3BUD",
        "colab": {
          "base_uri": "https://localhost:8080/",
          "height": 455
        },
        "outputId": "eb37b1f9-47e7-48e8-ca05-750befc612f6"
      },
      "source": [
        "#filtering\n",
        "import nltk\n",
        "nltk.download('stopwords')\n",
        "from nltk.corpus import stopwords\n",
        "\n",
        "def hapus_stopword(review):\n",
        "  filtering = stopwords.words('indonesian', 'english')\n",
        "  x = []\n",
        "  data = []\n",
        "  def myFunc(x):\n",
        "    if x in filtering:\n",
        "      return False\n",
        "    else:\n",
        "      return True\n",
        "  fit = filter(myFunc, review)\n",
        "  for x in fit:\n",
        "    data.append(x)\n",
        "  return data\n",
        "\n",
        "data['Review'] = data['Review'].apply(hapus_stopword)\n",
        "data"
      ],
      "execution_count": null,
      "outputs": [
        {
          "output_type": "stream",
          "text": [
            "[nltk_data] Downloading package stopwords to /root/nltk_data...\n",
            "[nltk_data]   Package stopwords is already up-to-date!\n"
          ],
          "name": "stdout"
        },
        {
          "output_type": "execute_result",
          "data": {
            "text/html": [
              "<div>\n",
              "<style scoped>\n",
              "    .dataframe tbody tr th:only-of-type {\n",
              "        vertical-align: middle;\n",
              "    }\n",
              "\n",
              "    .dataframe tbody tr th {\n",
              "        vertical-align: top;\n",
              "    }\n",
              "\n",
              "    .dataframe thead th {\n",
              "        text-align: right;\n",
              "    }\n",
              "</style>\n",
              "<table border=\"1\" class=\"dataframe\">\n",
              "  <thead>\n",
              "    <tr style=\"text-align: right;\">\n",
              "      <th></th>\n",
              "      <th>Username</th>\n",
              "      <th>Review</th>\n",
              "      <th>Kelayakan</th>\n",
              "    </tr>\n",
              "  </thead>\n",
              "  <tbody>\n",
              "    <tr>\n",
              "      <th>0</th>\n",
              "      <td>n*****i</td>\n",
              "      <td>[jam, tangannya, bagus, bangeeett, , cantik, c...</td>\n",
              "      <td>Tidak</td>\n",
              "    </tr>\n",
              "    <tr>\n",
              "      <th>1</th>\n",
              "      <td>t*****n</td>\n",
              "      <td>[jamnya, bagus, banget, suka, model, jam, tang...</td>\n",
              "      <td>Ya</td>\n",
              "    </tr>\n",
              "    <tr>\n",
              "      <th>2</th>\n",
              "      <td>silka.spoutlet</td>\n",
              "      <td>[terloooovvvveee, pokoknya, bgaus, banget, pac...</td>\n",
              "      <td>Ya</td>\n",
              "    </tr>\n",
              "    <tr>\n",
              "      <th>3</th>\n",
              "      <td>miftahuljannah__1</td>\n",
              "      <td>[jamnya, amaan, , warna, nya, sesuai, deskrips...</td>\n",
              "      <td>Ya</td>\n",
              "    </tr>\n",
              "    <tr>\n",
              "      <th>4</th>\n",
              "      <td>unanunal</td>\n",
              "      <td>[packing, aman, karna, gak, pake, buble, wrap,...</td>\n",
              "      <td>Tidak</td>\n",
              "    </tr>\n",
              "    <tr>\n",
              "      <th>...</th>\n",
              "      <td>...</td>\n",
              "      <td>...</td>\n",
              "      <td>...</td>\n",
              "    </tr>\n",
              "    <tr>\n",
              "      <th>145</th>\n",
              "      <td>w*****2</td>\n",
              "      <td>[thankyouu, berrybenkaa, cantikk, , , , , ]</td>\n",
              "      <td>Ya</td>\n",
              "    </tr>\n",
              "    <tr>\n",
              "      <th>146</th>\n",
              "      <td>fidiahutami</td>\n",
              "      <td>[kualitas, produk, , produk, original, , harga...</td>\n",
              "      <td>Ya</td>\n",
              "    </tr>\n",
              "    <tr>\n",
              "      <th>147</th>\n",
              "      <td>anisarac</td>\n",
              "      <td>[sukak, banget, jamnya, realpict, , packagingn...</td>\n",
              "      <td>Ya</td>\n",
              "    </tr>\n",
              "    <tr>\n",
              "      <th>148</th>\n",
              "      <td>fiore.oei</td>\n",
              "      <td>[bagus, jam, tangannya, , respon, admin, ramah...</td>\n",
              "      <td>Ya</td>\n",
              "    </tr>\n",
              "    <tr>\n",
              "      <th>149</th>\n",
              "      <td>shafiraakhiria</td>\n",
              "      <td>[cantik, bgtt, , pengiriman, jg, cepet, , nice...</td>\n",
              "      <td>Ya</td>\n",
              "    </tr>\n",
              "  </tbody>\n",
              "</table>\n",
              "<p>150 rows × 3 columns</p>\n",
              "</div>"
            ],
            "text/plain": [
              "              Username  ... Kelayakan\n",
              "0              n*****i  ...     Tidak\n",
              "1              t*****n  ...        Ya\n",
              "2       silka.spoutlet  ...        Ya\n",
              "3    miftahuljannah__1  ...        Ya\n",
              "4             unanunal  ...     Tidak\n",
              "..                 ...  ...       ...\n",
              "145            w*****2  ...        Ya\n",
              "146        fidiahutami  ...        Ya\n",
              "147           anisarac  ...        Ya\n",
              "148          fiore.oei  ...        Ya\n",
              "149     shafiraakhiria  ...        Ya\n",
              "\n",
              "[150 rows x 3 columns]"
            ]
          },
          "metadata": {
            "tags": []
          },
          "execution_count": 95
        }
      ]
    },
    {
      "cell_type": "code",
      "metadata": {
        "id": "erKcWWirZRaa",
        "colab": {
          "base_uri": "https://localhost:8080/",
          "height": 419
        },
        "outputId": "865c39e8-e19d-40bd-b91e-22cb1f22920f"
      },
      "source": [
        "for i in range(len(data)):\n",
        "  data['Review'][i] = \" \".join(data['Review'][i])\n",
        "\n",
        "data"
      ],
      "execution_count": null,
      "outputs": [
        {
          "output_type": "execute_result",
          "data": {
            "text/html": [
              "<div>\n",
              "<style scoped>\n",
              "    .dataframe tbody tr th:only-of-type {\n",
              "        vertical-align: middle;\n",
              "    }\n",
              "\n",
              "    .dataframe tbody tr th {\n",
              "        vertical-align: top;\n",
              "    }\n",
              "\n",
              "    .dataframe thead th {\n",
              "        text-align: right;\n",
              "    }\n",
              "</style>\n",
              "<table border=\"1\" class=\"dataframe\">\n",
              "  <thead>\n",
              "    <tr style=\"text-align: right;\">\n",
              "      <th></th>\n",
              "      <th>Username</th>\n",
              "      <th>Review</th>\n",
              "      <th>Kelayakan</th>\n",
              "    </tr>\n",
              "  </thead>\n",
              "  <tbody>\n",
              "    <tr>\n",
              "      <th>0</th>\n",
              "      <td>n*****i</td>\n",
              "      <td>jam tangannya bagus bangeeett  cantik cuman ga...</td>\n",
              "      <td>Tidak</td>\n",
              "    </tr>\n",
              "    <tr>\n",
              "      <th>1</th>\n",
              "      <td>t*****n</td>\n",
              "      <td>jamnya bagus banget suka model jam tangan kaya...</td>\n",
              "      <td>Ya</td>\n",
              "    </tr>\n",
              "    <tr>\n",
              "      <th>2</th>\n",
              "      <td>silka.spoutlet</td>\n",
              "      <td>terloooovvvveee pokoknya bgaus banget packing ...</td>\n",
              "      <td>Ya</td>\n",
              "    </tr>\n",
              "    <tr>\n",
              "      <th>3</th>\n",
              "      <td>miftahuljannah__1</td>\n",
              "      <td>jamnya amaan  warna nya sesuai deskripsi   mag...</td>\n",
              "      <td>Ya</td>\n",
              "    </tr>\n",
              "    <tr>\n",
              "      <th>4</th>\n",
              "      <td>unanunal</td>\n",
              "      <td>packing aman karna gak pake buble wrap  tp unt...</td>\n",
              "      <td>Tidak</td>\n",
              "    </tr>\n",
              "    <tr>\n",
              "      <th>...</th>\n",
              "      <td>...</td>\n",
              "      <td>...</td>\n",
              "      <td>...</td>\n",
              "    </tr>\n",
              "    <tr>\n",
              "      <th>145</th>\n",
              "      <td>w*****2</td>\n",
              "      <td>thankyouu berrybenkaa cantikk</td>\n",
              "      <td>Ya</td>\n",
              "    </tr>\n",
              "    <tr>\n",
              "      <th>146</th>\n",
              "      <td>fidiahutami</td>\n",
              "      <td>kualitas produk  produk original  harga produk</td>\n",
              "      <td>Ya</td>\n",
              "    </tr>\n",
              "    <tr>\n",
              "      <th>147</th>\n",
              "      <td>anisarac</td>\n",
              "      <td>sukak banget jamnya realpict  packagingnya bag...</td>\n",
              "      <td>Ya</td>\n",
              "    </tr>\n",
              "    <tr>\n",
              "      <th>148</th>\n",
              "      <td>fiore.oei</td>\n",
              "      <td>bagus jam tangannya  respon admin ramah     ma...</td>\n",
              "      <td>Ya</td>\n",
              "    </tr>\n",
              "    <tr>\n",
              "      <th>149</th>\n",
              "      <td>shafiraakhiria</td>\n",
              "      <td>cantik bgtt  pengiriman jg cepet  nice job ber...</td>\n",
              "      <td>Ya</td>\n",
              "    </tr>\n",
              "  </tbody>\n",
              "</table>\n",
              "<p>150 rows × 3 columns</p>\n",
              "</div>"
            ],
            "text/plain": [
              "              Username  ... Kelayakan\n",
              "0              n*****i  ...     Tidak\n",
              "1              t*****n  ...        Ya\n",
              "2       silka.spoutlet  ...        Ya\n",
              "3    miftahuljannah__1  ...        Ya\n",
              "4             unanunal  ...     Tidak\n",
              "..                 ...  ...       ...\n",
              "145            w*****2  ...        Ya\n",
              "146        fidiahutami  ...        Ya\n",
              "147           anisarac  ...        Ya\n",
              "148          fiore.oei  ...        Ya\n",
              "149     shafiraakhiria  ...        Ya\n",
              "\n",
              "[150 rows x 3 columns]"
            ]
          },
          "metadata": {
            "tags": []
          },
          "execution_count": 96
        }
      ]
    },
    {
      "cell_type": "code",
      "metadata": {
        "id": "z3XJr8HPGqLX",
        "colab": {
          "base_uri": "https://localhost:8080/",
          "height": 419
        },
        "outputId": "aad47748-3296-4507-f114-dde20226f64c"
      },
      "source": [
        "data.to_excel('Dataset_clean.xlsx')\n",
        "data_clean = pd.read_excel('Dataset_clean.xlsx')\n",
        "data_clean"
      ],
      "execution_count": null,
      "outputs": [
        {
          "output_type": "execute_result",
          "data": {
            "text/html": [
              "<div>\n",
              "<style scoped>\n",
              "    .dataframe tbody tr th:only-of-type {\n",
              "        vertical-align: middle;\n",
              "    }\n",
              "\n",
              "    .dataframe tbody tr th {\n",
              "        vertical-align: top;\n",
              "    }\n",
              "\n",
              "    .dataframe thead th {\n",
              "        text-align: right;\n",
              "    }\n",
              "</style>\n",
              "<table border=\"1\" class=\"dataframe\">\n",
              "  <thead>\n",
              "    <tr style=\"text-align: right;\">\n",
              "      <th></th>\n",
              "      <th>Unnamed: 0</th>\n",
              "      <th>Username</th>\n",
              "      <th>Review</th>\n",
              "      <th>Kelayakan</th>\n",
              "    </tr>\n",
              "  </thead>\n",
              "  <tbody>\n",
              "    <tr>\n",
              "      <th>0</th>\n",
              "      <td>0</td>\n",
              "      <td>n*****i</td>\n",
              "      <td>jam tangannya bagus bangeeett  cantik cuman ga...</td>\n",
              "      <td>Tidak</td>\n",
              "    </tr>\n",
              "    <tr>\n",
              "      <th>1</th>\n",
              "      <td>1</td>\n",
              "      <td>t*****n</td>\n",
              "      <td>jamnya bagus banget suka model jam tangan kaya...</td>\n",
              "      <td>Ya</td>\n",
              "    </tr>\n",
              "    <tr>\n",
              "      <th>2</th>\n",
              "      <td>2</td>\n",
              "      <td>silka.spoutlet</td>\n",
              "      <td>terloooovvvveee pokoknya bgaus banget packing ...</td>\n",
              "      <td>Ya</td>\n",
              "    </tr>\n",
              "    <tr>\n",
              "      <th>3</th>\n",
              "      <td>3</td>\n",
              "      <td>miftahuljannah__1</td>\n",
              "      <td>jamnya amaan  warna nya sesuai deskripsi   mag...</td>\n",
              "      <td>Ya</td>\n",
              "    </tr>\n",
              "    <tr>\n",
              "      <th>4</th>\n",
              "      <td>4</td>\n",
              "      <td>unanunal</td>\n",
              "      <td>packing aman karna gak pake buble wrap  tp unt...</td>\n",
              "      <td>Tidak</td>\n",
              "    </tr>\n",
              "    <tr>\n",
              "      <th>...</th>\n",
              "      <td>...</td>\n",
              "      <td>...</td>\n",
              "      <td>...</td>\n",
              "      <td>...</td>\n",
              "    </tr>\n",
              "    <tr>\n",
              "      <th>145</th>\n",
              "      <td>145</td>\n",
              "      <td>w*****2</td>\n",
              "      <td>thankyouu berrybenkaa cantikk</td>\n",
              "      <td>Ya</td>\n",
              "    </tr>\n",
              "    <tr>\n",
              "      <th>146</th>\n",
              "      <td>146</td>\n",
              "      <td>fidiahutami</td>\n",
              "      <td>kualitas produk  produk original  harga produk</td>\n",
              "      <td>Ya</td>\n",
              "    </tr>\n",
              "    <tr>\n",
              "      <th>147</th>\n",
              "      <td>147</td>\n",
              "      <td>anisarac</td>\n",
              "      <td>sukak banget jamnya realpict  packagingnya bag...</td>\n",
              "      <td>Ya</td>\n",
              "    </tr>\n",
              "    <tr>\n",
              "      <th>148</th>\n",
              "      <td>148</td>\n",
              "      <td>fiore.oei</td>\n",
              "      <td>bagus jam tangannya  respon admin ramah     ma...</td>\n",
              "      <td>Ya</td>\n",
              "    </tr>\n",
              "    <tr>\n",
              "      <th>149</th>\n",
              "      <td>149</td>\n",
              "      <td>shafiraakhiria</td>\n",
              "      <td>cantik bgtt  pengiriman jg cepet  nice job ber...</td>\n",
              "      <td>Ya</td>\n",
              "    </tr>\n",
              "  </tbody>\n",
              "</table>\n",
              "<p>150 rows × 4 columns</p>\n",
              "</div>"
            ],
            "text/plain": [
              "     Unnamed: 0  ... Kelayakan\n",
              "0             0  ...     Tidak\n",
              "1             1  ...        Ya\n",
              "2             2  ...        Ya\n",
              "3             3  ...        Ya\n",
              "4             4  ...     Tidak\n",
              "..          ...  ...       ...\n",
              "145         145  ...        Ya\n",
              "146         146  ...        Ya\n",
              "147         147  ...        Ya\n",
              "148         148  ...        Ya\n",
              "149         149  ...        Ya\n",
              "\n",
              "[150 rows x 4 columns]"
            ]
          },
          "metadata": {
            "tags": []
          },
          "execution_count": 98
        }
      ]
    },
    {
      "cell_type": "code",
      "metadata": {
        "id": "zuiXWh1HK9W4",
        "colab": {
          "base_uri": "https://localhost:8080/"
        },
        "outputId": "e1c49360-14f6-45dd-8406-74c765523314"
      },
      "source": [
        "data_clean = data_clean.astype({'Kelayakan' : 'category'})\n",
        "data_clean = data_clean.astype({'Review' : 'string'})\n",
        "data_clean.dtypes"
      ],
      "execution_count": null,
      "outputs": [
        {
          "output_type": "execute_result",
          "data": {
            "text/plain": [
              "Unnamed: 0       int64\n",
              "Username        object\n",
              "Review          string\n",
              "Kelayakan     category\n",
              "dtype: object"
            ]
          },
          "metadata": {
            "tags": []
          },
          "execution_count": 99
        }
      ]
    },
    {
      "cell_type": "code",
      "metadata": {
        "id": "8t3Jj7NMeczM",
        "colab": {
          "base_uri": "https://localhost:8080/"
        },
        "outputId": "d16d9b97-5b32-4d59-e7a0-99b18aae6d9b"
      },
      "source": [
        "from sklearn.feature_extraction.text import CountVectorizer\n",
        "cv = CountVectorizer(max_features=1800)\n",
        "X = cv.fit_transform(data_clean['Review']).toarray()\n",
        "X"
      ],
      "execution_count": null,
      "outputs": [
        {
          "output_type": "execute_result",
          "data": {
            "text/plain": [
              "array([[0, 0, 0, ..., 0, 0, 0],\n",
              "       [0, 0, 0, ..., 0, 0, 0],\n",
              "       [0, 0, 0, ..., 0, 0, 0],\n",
              "       ...,\n",
              "       [0, 0, 0, ..., 0, 0, 0],\n",
              "       [0, 0, 0, ..., 0, 0, 0],\n",
              "       [0, 0, 0, ..., 0, 0, 0]])"
            ]
          },
          "metadata": {
            "tags": []
          },
          "execution_count": 101
        }
      ]
    },
    {
      "cell_type": "code",
      "metadata": {
        "id": "l0B-qRRDkzSS",
        "colab": {
          "base_uri": "https://localhost:8080/",
          "height": 419
        },
        "outputId": "876d4f20-58af-4a1d-8749-172850022d18"
      },
      "source": [
        "replace = {\n",
        "    'Ya':1,\n",
        "    'Tidak':0\n",
        "}\n",
        "y = data_clean['Kelayakan'].replace(replace).values\n",
        "data_clean"
      ],
      "execution_count": null,
      "outputs": [
        {
          "output_type": "execute_result",
          "data": {
            "text/html": [
              "<div>\n",
              "<style scoped>\n",
              "    .dataframe tbody tr th:only-of-type {\n",
              "        vertical-align: middle;\n",
              "    }\n",
              "\n",
              "    .dataframe tbody tr th {\n",
              "        vertical-align: top;\n",
              "    }\n",
              "\n",
              "    .dataframe thead th {\n",
              "        text-align: right;\n",
              "    }\n",
              "</style>\n",
              "<table border=\"1\" class=\"dataframe\">\n",
              "  <thead>\n",
              "    <tr style=\"text-align: right;\">\n",
              "      <th></th>\n",
              "      <th>Unnamed: 0</th>\n",
              "      <th>Username</th>\n",
              "      <th>Review</th>\n",
              "      <th>Kelayakan</th>\n",
              "    </tr>\n",
              "  </thead>\n",
              "  <tbody>\n",
              "    <tr>\n",
              "      <th>0</th>\n",
              "      <td>0</td>\n",
              "      <td>n*****i</td>\n",
              "      <td>jam tangannya bagus bangeeett  cantik cuman ga...</td>\n",
              "      <td>Tidak</td>\n",
              "    </tr>\n",
              "    <tr>\n",
              "      <th>1</th>\n",
              "      <td>1</td>\n",
              "      <td>t*****n</td>\n",
              "      <td>jamnya bagus banget suka model jam tangan kaya...</td>\n",
              "      <td>Ya</td>\n",
              "    </tr>\n",
              "    <tr>\n",
              "      <th>2</th>\n",
              "      <td>2</td>\n",
              "      <td>silka.spoutlet</td>\n",
              "      <td>terloooovvvveee pokoknya bgaus banget packing ...</td>\n",
              "      <td>Ya</td>\n",
              "    </tr>\n",
              "    <tr>\n",
              "      <th>3</th>\n",
              "      <td>3</td>\n",
              "      <td>miftahuljannah__1</td>\n",
              "      <td>jamnya amaan  warna nya sesuai deskripsi   mag...</td>\n",
              "      <td>Ya</td>\n",
              "    </tr>\n",
              "    <tr>\n",
              "      <th>4</th>\n",
              "      <td>4</td>\n",
              "      <td>unanunal</td>\n",
              "      <td>packing aman karna gak pake buble wrap  tp unt...</td>\n",
              "      <td>Tidak</td>\n",
              "    </tr>\n",
              "    <tr>\n",
              "      <th>...</th>\n",
              "      <td>...</td>\n",
              "      <td>...</td>\n",
              "      <td>...</td>\n",
              "      <td>...</td>\n",
              "    </tr>\n",
              "    <tr>\n",
              "      <th>145</th>\n",
              "      <td>145</td>\n",
              "      <td>w*****2</td>\n",
              "      <td>thankyouu berrybenkaa cantikk</td>\n",
              "      <td>Ya</td>\n",
              "    </tr>\n",
              "    <tr>\n",
              "      <th>146</th>\n",
              "      <td>146</td>\n",
              "      <td>fidiahutami</td>\n",
              "      <td>kualitas produk  produk original  harga produk</td>\n",
              "      <td>Ya</td>\n",
              "    </tr>\n",
              "    <tr>\n",
              "      <th>147</th>\n",
              "      <td>147</td>\n",
              "      <td>anisarac</td>\n",
              "      <td>sukak banget jamnya realpict  packagingnya bag...</td>\n",
              "      <td>Ya</td>\n",
              "    </tr>\n",
              "    <tr>\n",
              "      <th>148</th>\n",
              "      <td>148</td>\n",
              "      <td>fiore.oei</td>\n",
              "      <td>bagus jam tangannya  respon admin ramah     ma...</td>\n",
              "      <td>Ya</td>\n",
              "    </tr>\n",
              "    <tr>\n",
              "      <th>149</th>\n",
              "      <td>149</td>\n",
              "      <td>shafiraakhiria</td>\n",
              "      <td>cantik bgtt  pengiriman jg cepet  nice job ber...</td>\n",
              "      <td>Ya</td>\n",
              "    </tr>\n",
              "  </tbody>\n",
              "</table>\n",
              "<p>150 rows × 4 columns</p>\n",
              "</div>"
            ],
            "text/plain": [
              "     Unnamed: 0  ... Kelayakan\n",
              "0             0  ...     Tidak\n",
              "1             1  ...        Ya\n",
              "2             2  ...        Ya\n",
              "3             3  ...        Ya\n",
              "4             4  ...     Tidak\n",
              "..          ...  ...       ...\n",
              "145         145  ...        Ya\n",
              "146         146  ...        Ya\n",
              "147         147  ...        Ya\n",
              "148         148  ...        Ya\n",
              "149         149  ...        Ya\n",
              "\n",
              "[150 rows x 4 columns]"
            ]
          },
          "metadata": {
            "tags": []
          },
          "execution_count": 102
        }
      ]
    },
    {
      "cell_type": "code",
      "metadata": {
        "id": "zeDUCdmKk3dq"
      },
      "source": [
        "from sklearn.model_selection import train_test_split\n",
        "X_train, X_test, y_train, y_test = train_test_split(X, y, test_size = 0.20, random_state = 0)"
      ],
      "execution_count": null,
      "outputs": []
    },
    {
      "cell_type": "code",
      "metadata": {
        "id": "JfngLOCklLWw"
      },
      "source": [
        "from sklearn.naive_bayes import MultinomialNB\n",
        "sentiment_model = MultinomialNB().fit(X_train, y_train)"
      ],
      "execution_count": null,
      "outputs": []
    },
    {
      "cell_type": "code",
      "metadata": {
        "id": "lDfROr4IlU3C"
      },
      "source": [
        "y_pred=sentiment_model.predict(X_test)"
      ],
      "execution_count": null,
      "outputs": []
    },
    {
      "cell_type": "code",
      "metadata": {
        "id": "ci8xTL0-lZeS",
        "colab": {
          "base_uri": "https://localhost:8080/"
        },
        "outputId": "f63d6ec9-283b-4feb-9a16-94a99fb0325f"
      },
      "source": [
        "#naive bayes\n",
        "from sklearn.metrics import classification_report\n",
        "print(classification_report(y_test,y_pred))"
      ],
      "execution_count": null,
      "outputs": [
        {
          "output_type": "stream",
          "text": [
            "              precision    recall  f1-score   support\n",
            "\n",
            "           0       0.75      0.75      0.75         8\n",
            "           1       0.91      0.91      0.91        22\n",
            "\n",
            "    accuracy                           0.87        30\n",
            "   macro avg       0.83      0.83      0.83        30\n",
            "weighted avg       0.87      0.87      0.87        30\n",
            "\n"
          ],
          "name": "stdout"
        }
      ]
    },
    {
      "cell_type": "code",
      "metadata": {
        "id": "Vj4Xe8ZRlbKC"
      },
      "source": [
        "#Training using Logistic Regression\n",
        "from sklearn.linear_model import LogisticRegression\n",
        "sentiment_model2 = LogisticRegression().fit(X_train, y_train)"
      ],
      "execution_count": null,
      "outputs": []
    },
    {
      "cell_type": "code",
      "metadata": {
        "id": "dE6eD0M2leMi"
      },
      "source": [
        "y_pred2=sentiment_model2.predict(X_test)"
      ],
      "execution_count": null,
      "outputs": []
    },
    {
      "cell_type": "code",
      "metadata": {
        "id": "3ntOvR7hlglr",
        "colab": {
          "base_uri": "https://localhost:8080/"
        },
        "outputId": "d6cc3d48-6740-4b17-d547-700747f0f764"
      },
      "source": [
        "print(classification_report(y_test,y_pred2))"
      ],
      "execution_count": null,
      "outputs": [
        {
          "output_type": "stream",
          "text": [
            "              precision    recall  f1-score   support\n",
            "\n",
            "           0       0.75      0.38      0.50         8\n",
            "           1       0.81      0.95      0.88        22\n",
            "\n",
            "    accuracy                           0.80        30\n",
            "   macro avg       0.78      0.66      0.69        30\n",
            "weighted avg       0.79      0.80      0.78        30\n",
            "\n"
          ],
          "name": "stdout"
        }
      ]
    },
    {
      "cell_type": "code",
      "metadata": {
        "id": "qgeb0op-2bYH",
        "colab": {
          "base_uri": "https://localhost:8080/",
          "height": 227
        },
        "outputId": "00528ac0-e796-4bbe-b842-db8c13391d45"
      },
      "source": [
        "#grafik naive bayes\n",
        "y1 = [0.87, 0.90, 0.90] #akurasi\n",
        "x1 = [150 ,200, 250] #banyak data\n",
        "\n",
        "#grafik Logistic Regression\n",
        "y2 = [0.80, 0.82, 0.85] #akurasi\n",
        "x2 = [150, 200, 250] #banyak data\n",
        "\n",
        "plt.figure(figsize = (5,3))\n",
        "# kelompok D\n",
        "plt.plot(x1, y1, label = 'Naive Bayes')\n",
        "plt.plot(x2, y2, label = 'Logistic Regression')\n",
        "plt.title('Perbandingan ')\n",
        "plt.legend()\n",
        "plt.show()"
      ],
      "execution_count": null,
      "outputs": [
        {
          "output_type": "display_data",
          "data": {
            "image/png": "[encoded data removed]",
            "text/plain": [
              "<Figure size 360x216 with 1 Axes>"
            ]
          },
          "metadata": {
            "tags": [],
            "needs_background": "light"
          }
        }
      ]
    },
    {
      "cell_type": "code",
      "metadata": {
        "id": "IpenlAN3T607",
        "colab": {
          "base_uri": "https://localhost:8080/",
          "height": 227
        },
        "outputId": "6438e7f3-fa28-4966-d405-02df49047c50"
      },
      "source": [
        "plt.figure(figsize = (5,3))\n",
        "plt.title('Perbandingan Akurasi Naive Bayes dan Logical Regression ')\n",
        "Metode = ['Naive Bayes', 'Logical Regression']\n",
        "Nilai = [0.87, 0.80]\n",
        "plt.bar(Metode,Nilai)\n",
        "plt.show()"
      ],
      "execution_count": null,
      "outputs": [
        {
          "output_type": "display_data",
          "data": {
            "image/png": "[encoded data removed]",
            "text/plain": [
              "<Figure size 360x216 with 1 Axes>"
            ]
          },
          "metadata": {
            "tags": [],
            "needs_background": "light"
          }
        }
      ]
    },
    {
      "cell_type": "code",
      "metadata": {
        "id": "fSfomuANg2fF",
        "colab": {
          "base_uri": "https://localhost:8080/",
          "height": 404
        },
        "outputId": "89e0518f-b055-4bfe-8eea-75b696e0ec7b"
      },
      "source": [
        "# Importing the matplotlib library\n",
        "import numpy as np\n",
        "import matplotlib.pyplot as plt\n",
        "# Declaring the figure or the plot (y, x) or (width, height)\n",
        "plt.figure(figsize=[10, 6])\n",
        "# Data to be plotted\n",
        "data250 = [0.90, 0.85]\n",
        "data200 = [0.90, 0.82]\n",
        "data150 = [0.87,0.80]\n",
        "# Using numpy to group 3 different data with bars\n",
        "X = np.arange(len(data250))\n",
        "# Passing the parameters to the bar function, this is the main function which creates the bar plot\n",
        "# Using X now to align the bars side by side\n",
        "plt.bar(X, data250, color = 'black', width = 0.25)\n",
        "plt.bar(X + 0.25, data200, color = '#09FAB2', width = 0.25)\n",
        "plt.bar(X + 0.5, data150, color = 'pink', width = 0.25)\n",
        "# Creating the legend of the bars in the plot\n",
        "plt.legend(['Dataset 250', 'Dataset 200', 'Dataset 150'])\n",
        "# Overiding the x axis with the country names\n",
        "plt.xticks([i + 0.25 for i in range(5)], ['Naive Bayes' , 'Logistic Regression'])\n",
        "# Giving the tilte for the plot\n",
        "plt.title(\"Penbandingan Naive Bayes dan Logistic Regression\")\n",
        "# Namimg the x and y axis\n",
        "plt.xlabel('Metode')\n",
        "plt.ylabel('Akurasi')\n",
        "# Saving the plot as a 'png'\n",
        "plt.savefig('4BarPlot.png')\n",
        "# Displaying the bar plot\n",
        "plt.show()"
      ],
      "execution_count": null,
      "outputs": [
        {
          "output_type": "display_data",
          "data": {
            "image/png": "[encoded data removed]",
            "text/plain": [
              "<Figure size 720x432 with 1 Axes>"
            ]
          },
          "metadata": {
            "tags": [],
            "needs_background": "light"
          }
        }
      ]
    }
  ]
}